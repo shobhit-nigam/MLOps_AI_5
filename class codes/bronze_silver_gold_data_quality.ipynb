{
 "cells": [
  {
   "cell_type": "code",
   "execution_count": 0,
   "metadata": {
    "application/vnd.databricks.v1+cell": {
     "cellMetadata": {
      "byteLimit": 2048000,
      "rowLimit": 10000
     },
     "inputWidgets": {},
     "nuid": "f437bf3b-6618-4920-861d-3fd5cf990288",
     "showTitle": false,
     "title": ""
    }
   },
   "outputs": [],
   "source": [
    "from pyspark.sql import SparkSession\n",
    "\n",
    "# intialize spark session\n",
    "spark = SparkSession.builder.appName(\"DeltaLakeExample\").getOrCreate()"
   ]
  },
  {
   "cell_type": "code",
   "execution_count": 0,
   "metadata": {
    "application/vnd.databricks.v1+cell": {
     "cellMetadata": {
      "byteLimit": 2048000,
      "rowLimit": 10000
     },
     "inputWidgets": {},
     "nuid": "deb2b6de-f970-4a51-a6e3-01b9bfb1a2c9",
     "showTitle": false,
     "title": ""
    }
   },
   "outputs": [
    {
     "output_type": "display_data",
     "data": {
      "text/html": [
       "<style scoped>\n",
       "  .table-result-container {\n",
       "    max-height: 300px;\n",
       "    overflow: auto;\n",
       "  }\n",
       "  table, th, td {\n",
       "    border: 1px solid black;\n",
       "    border-collapse: collapse;\n",
       "  }\n",
       "  th, td {\n",
       "    padding: 5px;\n",
       "  }\n",
       "  th {\n",
       "    text-align: left;\n",
       "  }\n",
       "</style><div class='table-result-container'><table class='table-result'><thead style='background-color: white'><tr><th>path</th><th>name</th><th>size</th><th>modificationTime</th></tr></thead><tbody><tr><td>dbfs:/Workspace/Users/databricks001@techademy9056.onmicrosoft.com/First/Sample/</td><td>Sample/</td><td>0</td><td>1719261112000</td></tr><tr><td>dbfs:/Workspace/Users/databricks001@techademy9056.onmicrosoft.com/First/Temple/</td><td>Temple/</td><td>0</td><td>1719261440000</td></tr></tbody></table></div>"
      ]
     },
     "metadata": {
      "application/vnd.databricks.v1+output": {
       "addedWidgets": {},
       "aggData": [],
       "aggError": "",
       "aggOverflow": false,
       "aggSchema": [],
       "aggSeriesLimitReached": false,
       "aggType": "",
       "arguments": {},
       "columnCustomDisplayInfos": {},
       "data": [
        [
         "dbfs:/Workspace/Users/databricks001@techademy9056.onmicrosoft.com/First/Sample/",
         "Sample/",
         0,
         1719261112000
        ],
        [
         "dbfs:/Workspace/Users/databricks001@techademy9056.onmicrosoft.com/First/Temple/",
         "Temple/",
         0,
         1719261440000
        ]
       ],
       "datasetInfos": [],
       "dbfsResultPath": null,
       "isJsonSchema": true,
       "metadata": {},
       "overflow": false,
       "plotOptions": {
        "customPlotOptions": {},
        "displayType": "table",
        "pivotAggregation": null,
        "pivotColumns": null,
        "xColumns": null,
        "yColumns": null
       },
       "removedWidgets": [],
       "schema": [
        {
         "metadata": "{}",
         "name": "path",
         "type": "\"string\""
        },
        {
         "metadata": "{}",
         "name": "name",
         "type": "\"string\""
        },
        {
         "metadata": "{}",
         "name": "size",
         "type": "\"long\""
        },
        {
         "metadata": "{}",
         "name": "modificationTime",
         "type": "\"long\""
        }
       ],
       "type": "table"
      }
     },
     "output_type": "display_data"
    }
   ],
   "source": [
    "display(dbutils.fs.ls(\"dbfs:/Workspace/Users/databricks001@techademy9056.onmicrosoft.com/First\"))"
   ]
  },
  {
   "cell_type": "code",
   "execution_count": 0,
   "metadata": {
    "application/vnd.databricks.v1+cell": {
     "cellMetadata": {
      "byteLimit": 2048000,
      "rowLimit": 10000
     },
     "inputWidgets": {},
     "nuid": "f734e621-bc3b-41ac-8e1a-6f0b698956fb",
     "showTitle": false,
     "title": ""
    }
   },
   "outputs": [],
   "source": [
    "# load data from CSV\n",
    "path_to_file = \"file:/Workspace/Users/databricks001@techademy9056.onmicrosoft.com/Third/data.csv\"\n",
    "raw_df = spark.read.format(\"csv\").option(\"header\", \"true\").option(\"inferSchema\", \"true\").load(path_to_file) "
   ]
  },
  {
   "cell_type": "code",
   "execution_count": 0,
   "metadata": {
    "application/vnd.databricks.v1+cell": {
     "cellMetadata": {
      "byteLimit": 2048000,
      "rowLimit": 10000
     },
     "inputWidgets": {},
     "nuid": "2d6bccfd-cccc-4cb8-8829-835b36f8e3b2",
     "showTitle": false,
     "title": ""
    }
   },
   "outputs": [
    {
     "output_type": "execute_result",
     "data": {
      "text/plain": [
       "[Row(transaction_id=1, product_id=101, quantity=2, price=10.5, sale_date=datetime.date(2023, 6, 1)),\n",
       " Row(transaction_id=2, product_id=102, quantity=1, price=20.0, sale_date=datetime.date(2023, 6, 1)),\n",
       " Row(transaction_id=3, product_id=103, quantity=5, price=5.0, sale_date=datetime.date(2023, 6, 2)),\n",
       " Row(transaction_id=4, product_id=101, quantity=3, price=10.5, sale_date=datetime.date(2023, 6, 2)),\n",
       " Row(transaction_id=5, product_id=104, quantity=None, price=2.0, sale_date=datetime.date(2023, 6, 3))]"
      ]
     },
     "execution_count": 25,
     "metadata": {},
     "output_type": "execute_result"
    }
   ],
   "source": [
    "raw_df.head(5)"
   ]
  },
  {
   "cell_type": "code",
   "execution_count": 0,
   "metadata": {
    "application/vnd.databricks.v1+cell": {
     "cellMetadata": {
      "byteLimit": 2048000,
      "rowLimit": 10000
     },
     "inputWidgets": {},
     "nuid": "aeedaf9e-183d-4fdd-b308-bbcd3c5f8400",
     "showTitle": false,
     "title": ""
    }
   },
   "outputs": [],
   "source": [
    "# write to bronze table in delta lake \n",
    "raw_df.write.format(\"delta\").mode(\"overwrite\").save(\"/delta/bronze/sales\")\n",
    "\n"
   ]
  },
  {
   "cell_type": "code",
   "execution_count": 0,
   "metadata": {
    "application/vnd.databricks.v1+cell": {
     "cellMetadata": {
      "byteLimit": 2048000,
      "rowLimit": 10000
     },
     "inputWidgets": {},
     "nuid": "71abf267-2689-4ad9-955f-ea17ad99c7ff",
     "showTitle": false,
     "title": ""
    }
   },
   "outputs": [
    {
     "output_type": "stream",
     "name": "stdout",
     "output_type": "stream",
     "text": [
      "/Workspace/Users/databricks001@techademy9056.onmicrosoft.com/Third\n"
     ]
    }
   ],
   "source": [
    "%sh\n",
    "path=$(pwd)\n",
    "echo $path"
   ]
  },
  {
   "cell_type": "code",
   "execution_count": 0,
   "metadata": {
    "application/vnd.databricks.v1+cell": {
     "cellMetadata": {
      "byteLimit": 2048000,
      "rowLimit": 10000
     },
     "inputWidgets": {},
     "nuid": "c14c83ef-17a4-4772-af5b-982ae2cc87dd",
     "showTitle": false,
     "title": ""
    }
   },
   "outputs": [],
   "source": [
    "# read raw data from the bronze table\n",
    "bronze_df = spark.read.format(\"delta\").load(\"/delta/bronze/sales\")"
   ]
  },
  {
   "cell_type": "code",
   "execution_count": 0,
   "metadata": {
    "application/vnd.databricks.v1+cell": {
     "cellMetadata": {
      "byteLimit": 2048000,
      "rowLimit": 10000
     },
     "inputWidgets": {},
     "nuid": "684da86d-63f4-49a9-ad31-bd3fef559b88",
     "showTitle": false,
     "title": ""
    }
   },
   "outputs": [],
   "source": [
    "# clean and transform the data \n",
    "# drop duplicates \n",
    "\n",
    "clean_df = bronze_df.dropDuplicates([\"transaction_id\"])\n",
    "\n",
    "# filter out rows with missing values in critical columns \n",
    "clean_df = clean_df.filter(\"quantity is not null and price is not null AND sale_date IS NOT NULL\")\n",
    "\n",
    "clean_df.write.format(\"delta\").mode(\"overwrite\").save(\"/delta/silver/sales\")"
   ]
  },
  {
   "cell_type": "code",
   "execution_count": 0,
   "metadata": {
    "application/vnd.databricks.v1+cell": {
     "cellMetadata": {
      "byteLimit": 2048000,
      "rowLimit": 10000
     },
     "inputWidgets": {},
     "nuid": "ba9b4793-45e3-4e7e-b718-ca70d3dad344",
     "showTitle": false,
     "title": ""
    }
   },
   "outputs": [],
   "source": [
    "from pyspark.sql.functions import sum, col\n",
    "\n",
    "# read cleaned data from the silver table\n",
    "silver_df = spark.read.format(\"delta\").load(\"/delta/silver/sales\")\n",
    "\n",
    "# aggregate the date total sales and total quantity sold per product\n",
    "agg_df = silver_df.groupBy(\"product_id\").agg(sum(col(\"quantity\")).alias(\"total_quantity\"), sum(col(\"quantity\") * col(\"price\")).alias(\"total_sales\"))\n",
    "\n",
    "#write to gold table in delta lake\n",
    "agg_df.write.format(\"delta\").mode(\"overwrite\").save(\"/delta/gold/sales_summary\")"
   ]
  },
  {
   "cell_type": "code",
   "execution_count": 0,
   "metadata": {
    "application/vnd.databricks.v1+cell": {
     "cellMetadata": {
      "byteLimit": 2048000,
      "rowLimit": 10000
     },
     "inputWidgets": {},
     "nuid": "cf68e00c-e2d9-4761-b173-ab9ebe888d85",
     "showTitle": false,
     "title": ""
    }
   },
   "outputs": [],
   "source": [
    "gold_df = spark.read.format(\"delta\").load(\"/delta/gold/sales_summary\")"
   ]
  },
  {
   "cell_type": "code",
   "execution_count": 0,
   "metadata": {
    "application/vnd.databricks.v1+cell": {
     "cellMetadata": {
      "byteLimit": 2048000,
      "rowLimit": 10000
     },
     "inputWidgets": {},
     "nuid": "5e2b7e7d-9a52-42b4-ac24-420c2356e471",
     "showTitle": false,
     "title": ""
    }
   },
   "outputs": [
    {
     "output_type": "stream",
     "name": "stdout",
     "output_type": "stream",
     "text": [
      "+--------------+----------+--------+-----+----------+\n|transaction_id|product_id|quantity|price| sale_date|\n+--------------+----------+--------+-----+----------+\n|             1|       101|       2| 10.5|2023-06-01|\n|             2|       102|       1| 20.0|2023-06-01|\n|             3|       103|       5|  5.0|2023-06-02|\n|             4|       101|       3| 10.5|2023-06-02|\n|             5|       104|    NULL|  2.0|2023-06-03|\n|             6|       105|       7| NULL|2023-06-03|\n|             7|       101|       3| 10.5|2023-06-02|\n|             8|       106|       2| 15.0|2023-06-04|\n|             9|       107|       1| 25.0|      NULL|\n|            10|       108|       1| 30.0|2023-06-05|\n+--------------+----------+--------+-----+----------+\n\n"
     ]
    }
   ],
   "source": [
    "raw_df.show()"
   ]
  },
  {
   "cell_type": "code",
   "execution_count": 0,
   "metadata": {
    "application/vnd.databricks.v1+cell": {
     "cellMetadata": {
      "byteLimit": 2048000,
      "rowLimit": 10000
     },
     "inputWidgets": {},
     "nuid": "71acf1b9-d837-403a-9bb3-6ee594106413",
     "showTitle": false,
     "title": ""
    }
   },
   "outputs": [
    {
     "output_type": "stream",
     "name": "stdout",
     "output_type": "stream",
     "text": [
      "+--------------+----------+--------+-----+----------+\n|transaction_id|product_id|quantity|price| sale_date|\n+--------------+----------+--------+-----+----------+\n|             1|       101|       2| 10.5|2023-06-01|\n|             2|       102|       1| 20.0|2023-06-01|\n|             3|       103|       5|  5.0|2023-06-02|\n|             4|       101|       3| 10.5|2023-06-02|\n|             5|       104|    NULL|  2.0|2023-06-03|\n|             6|       105|       7| NULL|2023-06-03|\n|             7|       101|       3| 10.5|2023-06-02|\n|             8|       106|       2| 15.0|2023-06-04|\n|             9|       107|       1| 25.0|      NULL|\n|            10|       108|       1| 30.0|2023-06-05|\n+--------------+----------+--------+-----+----------+\n\n"
     ]
    }
   ],
   "source": [
    "bronze_df.show()"
   ]
  },
  {
   "cell_type": "code",
   "execution_count": 0,
   "metadata": {
    "application/vnd.databricks.v1+cell": {
     "cellMetadata": {
      "byteLimit": 2048000,
      "rowLimit": 10000
     },
     "inputWidgets": {},
     "nuid": "acf2704b-9437-4aaf-97b9-62571b3b9a6c",
     "showTitle": false,
     "title": ""
    }
   },
   "outputs": [
    {
     "output_type": "stream",
     "name": "stdout",
     "output_type": "stream",
     "text": [
      "+--------------+----------+--------+-----+----------+\n|transaction_id|product_id|quantity|price| sale_date|\n+--------------+----------+--------+-----+----------+\n|             1|       101|       2| 10.5|2023-06-01|\n|             3|       103|       5|  5.0|2023-06-02|\n|             4|       101|       3| 10.5|2023-06-02|\n|             8|       106|       2| 15.0|2023-06-04|\n|             7|       101|       3| 10.5|2023-06-02|\n|            10|       108|       1| 30.0|2023-06-05|\n|             2|       102|       1| 20.0|2023-06-01|\n+--------------+----------+--------+-----+----------+\n\n"
     ]
    }
   ],
   "source": [
    "silver_df.show()"
   ]
  },
  {
   "cell_type": "code",
   "execution_count": 0,
   "metadata": {
    "application/vnd.databricks.v1+cell": {
     "cellMetadata": {
      "byteLimit": 2048000,
      "rowLimit": 10000
     },
     "inputWidgets": {},
     "nuid": "3ac57341-2b56-4765-b769-0faab4be3c50",
     "showTitle": false,
     "title": ""
    }
   },
   "outputs": [
    {
     "output_type": "stream",
     "name": "stdout",
     "output_type": "stream",
     "text": [
      "+----------+--------------+-----------+\n|product_id|total_quantity|total_sales|\n+----------+--------------+-----------+\n|       108|             1|       30.0|\n|       101|             8|       84.0|\n|       103|             5|       25.0|\n|       102|             1|       20.0|\n|       106|             2|       30.0|\n+----------+--------------+-----------+\n\n"
     ]
    }
   ],
   "source": [
    "gold_df.show()"
   ]
  },
  {
   "cell_type": "code",
   "execution_count": 0,
   "metadata": {
    "application/vnd.databricks.v1+cell": {
     "cellMetadata": {},
     "inputWidgets": {},
     "nuid": "ebe329ea-c53f-4bdb-8f26-87d7d1a86808",
     "showTitle": false,
     "title": ""
    }
   },
   "outputs": [],
   "source": []
  }
 ],
 "metadata": {
  "application/vnd.databricks.v1+notebook": {
   "dashboards": [],
   "environmentMetadata": null,
   "language": "python",
   "notebookMetadata": {
    "mostRecentlyExecutedCommandWithImplicitDF": {
     "commandId": 1892758855918846,
     "dataframes": [
      "_sqldf"
     ]
    },
    "pythonIndentUnit": 4
   },
   "notebookName": "bronze_silver_gold_data_quality",
   "widgets": {}
  }
 },
 "nbformat": 4,
 "nbformat_minor": 0
}
